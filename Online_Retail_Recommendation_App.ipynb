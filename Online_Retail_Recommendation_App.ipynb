{
  "nbformat": 4,
  "nbformat_minor": 0,
  "metadata": {
    "colab": {
      "name": "Online Retail Recommendation App.ipynb",
      "provenance": [],
      "collapsed_sections": []
    },
    "kernelspec": {
      "name": "python3",
      "display_name": "Python 3"
    },
    "language_info": {
      "name": "python"
    }
  },
  "cells": [
    {
      "cell_type": "markdown",
      "metadata": {
        "id": "b3djqbcyXgIe"
      },
      "source": [
        "## Importing Necessary Libraries"
      ]
    },
    {
      "cell_type": "code",
      "metadata": {
        "id": "OHeewm6MQidL"
      },
      "source": [
        "from sklearn.preprocessing import LabelEncoder\n",
        "from sklearn.neighbors import NearestNeighbors\n",
        "import pickle\n",
        "import pandas as pd"
      ],
      "execution_count": 73,
      "outputs": []
    },
    {
      "cell_type": "markdown",
      "metadata": {
        "id": "FeBaQnTA3cua"
      },
      "source": [
        "## Data Preprocessing"
      ]
    },
    {
      "cell_type": "code",
      "metadata": {
        "id": "HuBoYwntsldN",
        "colab": {
          "base_uri": "https://localhost:8080/",
          "height": 197
        },
        "outputId": "57966485-936f-4725-c19b-ddde79d92d8d"
      },
      "source": [
        "df = pd.read_csv('/content/drive/MyDrive/data/Online Retail.csv')\n",
        "df.head()"
      ],
      "execution_count": 74,
      "outputs": [
        {
          "output_type": "execute_result",
          "data": {
            "text/html": [
              "<div>\n",
              "<style scoped>\n",
              "    .dataframe tbody tr th:only-of-type {\n",
              "        vertical-align: middle;\n",
              "    }\n",
              "\n",
              "    .dataframe tbody tr th {\n",
              "        vertical-align: top;\n",
              "    }\n",
              "\n",
              "    .dataframe thead th {\n",
              "        text-align: right;\n",
              "    }\n",
              "</style>\n",
              "<table border=\"1\" class=\"dataframe\">\n",
              "  <thead>\n",
              "    <tr style=\"text-align: right;\">\n",
              "      <th></th>\n",
              "      <th>InvoiceNo</th>\n",
              "      <th>StockCode</th>\n",
              "      <th>Description</th>\n",
              "      <th>Quantity</th>\n",
              "      <th>InvoiceDate</th>\n",
              "      <th>UnitPrice</th>\n",
              "      <th>CustomerID</th>\n",
              "      <th>Country</th>\n",
              "    </tr>\n",
              "  </thead>\n",
              "  <tbody>\n",
              "    <tr>\n",
              "      <th>0</th>\n",
              "      <td>536365</td>\n",
              "      <td>85123A</td>\n",
              "      <td>WHITE HANGING HEART T-LIGHT HOLDER</td>\n",
              "      <td>6</td>\n",
              "      <td>12/1/2010 8:26</td>\n",
              "      <td>2.55</td>\n",
              "      <td>17850.0</td>\n",
              "      <td>United Kingdom</td>\n",
              "    </tr>\n",
              "    <tr>\n",
              "      <th>1</th>\n",
              "      <td>536365</td>\n",
              "      <td>71053</td>\n",
              "      <td>WHITE METAL LANTERN</td>\n",
              "      <td>6</td>\n",
              "      <td>12/1/2010 8:26</td>\n",
              "      <td>3.39</td>\n",
              "      <td>17850.0</td>\n",
              "      <td>United Kingdom</td>\n",
              "    </tr>\n",
              "    <tr>\n",
              "      <th>2</th>\n",
              "      <td>536365</td>\n",
              "      <td>84406B</td>\n",
              "      <td>CREAM CUPID HEARTS COAT HANGER</td>\n",
              "      <td>8</td>\n",
              "      <td>12/1/2010 8:26</td>\n",
              "      <td>2.75</td>\n",
              "      <td>17850.0</td>\n",
              "      <td>United Kingdom</td>\n",
              "    </tr>\n",
              "    <tr>\n",
              "      <th>3</th>\n",
              "      <td>536365</td>\n",
              "      <td>84029G</td>\n",
              "      <td>KNITTED UNION FLAG HOT WATER BOTTLE</td>\n",
              "      <td>6</td>\n",
              "      <td>12/1/2010 8:26</td>\n",
              "      <td>3.39</td>\n",
              "      <td>17850.0</td>\n",
              "      <td>United Kingdom</td>\n",
              "    </tr>\n",
              "    <tr>\n",
              "      <th>4</th>\n",
              "      <td>536365</td>\n",
              "      <td>84029E</td>\n",
              "      <td>RED WOOLLY HOTTIE WHITE HEART.</td>\n",
              "      <td>6</td>\n",
              "      <td>12/1/2010 8:26</td>\n",
              "      <td>3.39</td>\n",
              "      <td>17850.0</td>\n",
              "      <td>United Kingdom</td>\n",
              "    </tr>\n",
              "  </tbody>\n",
              "</table>\n",
              "</div>"
            ],
            "text/plain": [
              "  InvoiceNo StockCode  ... CustomerID         Country\n",
              "0    536365    85123A  ...    17850.0  United Kingdom\n",
              "1    536365     71053  ...    17850.0  United Kingdom\n",
              "2    536365    84406B  ...    17850.0  United Kingdom\n",
              "3    536365    84029G  ...    17850.0  United Kingdom\n",
              "4    536365    84029E  ...    17850.0  United Kingdom\n",
              "\n",
              "[5 rows x 8 columns]"
            ]
          },
          "metadata": {
            "tags": []
          },
          "execution_count": 74
        }
      ]
    },
    {
      "cell_type": "code",
      "metadata": {
        "id": "rDEHM_Zl4DiV",
        "colab": {
          "base_uri": "https://localhost:8080/",
          "height": 197
        },
        "outputId": "076f00c0-87a1-400d-eec0-b07dbc669c1b"
      },
      "source": [
        "data = df[['InvoiceNo', 'Description', 'Quantity', 'UnitPrice', 'Country', 'InvoiceDate']]\n",
        "data.head()"
      ],
      "execution_count": 80,
      "outputs": [
        {
          "output_type": "execute_result",
          "data": {
            "text/html": [
              "<div>\n",
              "<style scoped>\n",
              "    .dataframe tbody tr th:only-of-type {\n",
              "        vertical-align: middle;\n",
              "    }\n",
              "\n",
              "    .dataframe tbody tr th {\n",
              "        vertical-align: top;\n",
              "    }\n",
              "\n",
              "    .dataframe thead th {\n",
              "        text-align: right;\n",
              "    }\n",
              "</style>\n",
              "<table border=\"1\" class=\"dataframe\">\n",
              "  <thead>\n",
              "    <tr style=\"text-align: right;\">\n",
              "      <th></th>\n",
              "      <th>InvoiceNo</th>\n",
              "      <th>Description</th>\n",
              "      <th>Quantity</th>\n",
              "      <th>UnitPrice</th>\n",
              "      <th>Country</th>\n",
              "      <th>InvoiceDate</th>\n",
              "    </tr>\n",
              "  </thead>\n",
              "  <tbody>\n",
              "    <tr>\n",
              "      <th>0</th>\n",
              "      <td>536365</td>\n",
              "      <td>WHITE HANGING HEART T-LIGHT HOLDER</td>\n",
              "      <td>6</td>\n",
              "      <td>2.55</td>\n",
              "      <td>United Kingdom</td>\n",
              "      <td>12/1/2010 8:26</td>\n",
              "    </tr>\n",
              "    <tr>\n",
              "      <th>1</th>\n",
              "      <td>536365</td>\n",
              "      <td>WHITE METAL LANTERN</td>\n",
              "      <td>6</td>\n",
              "      <td>3.39</td>\n",
              "      <td>United Kingdom</td>\n",
              "      <td>12/1/2010 8:26</td>\n",
              "    </tr>\n",
              "    <tr>\n",
              "      <th>2</th>\n",
              "      <td>536365</td>\n",
              "      <td>CREAM CUPID HEARTS COAT HANGER</td>\n",
              "      <td>8</td>\n",
              "      <td>2.75</td>\n",
              "      <td>United Kingdom</td>\n",
              "      <td>12/1/2010 8:26</td>\n",
              "    </tr>\n",
              "    <tr>\n",
              "      <th>3</th>\n",
              "      <td>536365</td>\n",
              "      <td>KNITTED UNION FLAG HOT WATER BOTTLE</td>\n",
              "      <td>6</td>\n",
              "      <td>3.39</td>\n",
              "      <td>United Kingdom</td>\n",
              "      <td>12/1/2010 8:26</td>\n",
              "    </tr>\n",
              "    <tr>\n",
              "      <th>4</th>\n",
              "      <td>536365</td>\n",
              "      <td>RED WOOLLY HOTTIE WHITE HEART.</td>\n",
              "      <td>6</td>\n",
              "      <td>3.39</td>\n",
              "      <td>United Kingdom</td>\n",
              "      <td>12/1/2010 8:26</td>\n",
              "    </tr>\n",
              "  </tbody>\n",
              "</table>\n",
              "</div>"
            ],
            "text/plain": [
              "  InvoiceNo  ...     InvoiceDate\n",
              "0    536365  ...  12/1/2010 8:26\n",
              "1    536365  ...  12/1/2010 8:26\n",
              "2    536365  ...  12/1/2010 8:26\n",
              "3    536365  ...  12/1/2010 8:26\n",
              "4    536365  ...  12/1/2010 8:26\n",
              "\n",
              "[5 rows x 6 columns]"
            ]
          },
          "metadata": {
            "tags": []
          },
          "execution_count": 80
        }
      ]
    },
    {
      "cell_type": "code",
      "metadata": {
        "colab": {
          "base_uri": "https://localhost:8080/"
        },
        "id": "MvKKE1cs-iWE",
        "outputId": "e168337b-2ba8-4d03-8f40-ebbd4bf57a84"
      },
      "source": [
        "data.shape"
      ],
      "execution_count": 81,
      "outputs": [
        {
          "output_type": "execute_result",
          "data": {
            "text/plain": [
              "(541909, 6)"
            ]
          },
          "metadata": {
            "tags": []
          },
          "execution_count": 81
        }
      ]
    },
    {
      "cell_type": "code",
      "metadata": {
        "colab": {
          "base_uri": "https://localhost:8080/"
        },
        "id": "Kum7PPkU-aKd",
        "outputId": "b741a268-42e2-473d-a437-595f497bf11a"
      },
      "source": [
        "data['Country'].value_counts()"
      ],
      "execution_count": 82,
      "outputs": [
        {
          "output_type": "execute_result",
          "data": {
            "text/plain": [
              "United Kingdom          495478\n",
              "Germany                   9495\n",
              "France                    8557\n",
              "EIRE                      8196\n",
              "Spain                     2533\n",
              "Netherlands               2371\n",
              "Belgium                   2069\n",
              "Switzerland               2002\n",
              "Portugal                  1519\n",
              "Australia                 1259\n",
              "Norway                    1086\n",
              "Italy                      803\n",
              "Channel Islands            758\n",
              "Finland                    695\n",
              "Cyprus                     622\n",
              "Sweden                     462\n",
              "Unspecified                446\n",
              "Austria                    401\n",
              "Denmark                    389\n",
              "Japan                      358\n",
              "Poland                     341\n",
              "Israel                     297\n",
              "USA                        291\n",
              "Hong Kong                  288\n",
              "Singapore                  229\n",
              "Iceland                    182\n",
              "Canada                     151\n",
              "Greece                     146\n",
              "Malta                      127\n",
              "United Arab Emirates        68\n",
              "European Community          61\n",
              "RSA                         58\n",
              "Lebanon                     45\n",
              "Lithuania                   35\n",
              "Brazil                      32\n",
              "Czech Republic              30\n",
              "Bahrain                     19\n",
              "Saudi Arabia                10\n",
              "Name: Country, dtype: int64"
            ]
          },
          "metadata": {
            "tags": []
          },
          "execution_count": 82
        }
      ]
    },
    {
      "cell_type": "markdown",
      "metadata": {
        "id": "iVfKJT9YXnuX"
      },
      "source": [
        "### Handling Categorical Data"
      ]
    },
    {
      "cell_type": "code",
      "metadata": {
        "id": "JuThbXR3-d_Y",
        "colab": {
          "base_uri": "https://localhost:8080/",
          "height": 322
        },
        "outputId": "687a5688-5423-49a0-bed2-83683042c170"
      },
      "source": [
        "encoder = LabelEncoder()\n",
        "data['CountryNumeric'] = encoder.fit_transform(data['Country'])\n",
        "data.head()"
      ],
      "execution_count": 83,
      "outputs": [
        {
          "output_type": "stream",
          "text": [
            "/usr/local/lib/python3.7/dist-packages/ipykernel_launcher.py:2: SettingWithCopyWarning: \n",
            "A value is trying to be set on a copy of a slice from a DataFrame.\n",
            "Try using .loc[row_indexer,col_indexer] = value instead\n",
            "\n",
            "See the caveats in the documentation: https://pandas.pydata.org/pandas-docs/stable/user_guide/indexing.html#returning-a-view-versus-a-copy\n",
            "  \n"
          ],
          "name": "stderr"
        },
        {
          "output_type": "execute_result",
          "data": {
            "text/html": [
              "<div>\n",
              "<style scoped>\n",
              "    .dataframe tbody tr th:only-of-type {\n",
              "        vertical-align: middle;\n",
              "    }\n",
              "\n",
              "    .dataframe tbody tr th {\n",
              "        vertical-align: top;\n",
              "    }\n",
              "\n",
              "    .dataframe thead th {\n",
              "        text-align: right;\n",
              "    }\n",
              "</style>\n",
              "<table border=\"1\" class=\"dataframe\">\n",
              "  <thead>\n",
              "    <tr style=\"text-align: right;\">\n",
              "      <th></th>\n",
              "      <th>InvoiceNo</th>\n",
              "      <th>Description</th>\n",
              "      <th>Quantity</th>\n",
              "      <th>UnitPrice</th>\n",
              "      <th>Country</th>\n",
              "      <th>InvoiceDate</th>\n",
              "      <th>CountryNumeric</th>\n",
              "    </tr>\n",
              "  </thead>\n",
              "  <tbody>\n",
              "    <tr>\n",
              "      <th>0</th>\n",
              "      <td>536365</td>\n",
              "      <td>WHITE HANGING HEART T-LIGHT HOLDER</td>\n",
              "      <td>6</td>\n",
              "      <td>2.55</td>\n",
              "      <td>United Kingdom</td>\n",
              "      <td>12/1/2010 8:26</td>\n",
              "      <td>36</td>\n",
              "    </tr>\n",
              "    <tr>\n",
              "      <th>1</th>\n",
              "      <td>536365</td>\n",
              "      <td>WHITE METAL LANTERN</td>\n",
              "      <td>6</td>\n",
              "      <td>3.39</td>\n",
              "      <td>United Kingdom</td>\n",
              "      <td>12/1/2010 8:26</td>\n",
              "      <td>36</td>\n",
              "    </tr>\n",
              "    <tr>\n",
              "      <th>2</th>\n",
              "      <td>536365</td>\n",
              "      <td>CREAM CUPID HEARTS COAT HANGER</td>\n",
              "      <td>8</td>\n",
              "      <td>2.75</td>\n",
              "      <td>United Kingdom</td>\n",
              "      <td>12/1/2010 8:26</td>\n",
              "      <td>36</td>\n",
              "    </tr>\n",
              "    <tr>\n",
              "      <th>3</th>\n",
              "      <td>536365</td>\n",
              "      <td>KNITTED UNION FLAG HOT WATER BOTTLE</td>\n",
              "      <td>6</td>\n",
              "      <td>3.39</td>\n",
              "      <td>United Kingdom</td>\n",
              "      <td>12/1/2010 8:26</td>\n",
              "      <td>36</td>\n",
              "    </tr>\n",
              "    <tr>\n",
              "      <th>4</th>\n",
              "      <td>536365</td>\n",
              "      <td>RED WOOLLY HOTTIE WHITE HEART.</td>\n",
              "      <td>6</td>\n",
              "      <td>3.39</td>\n",
              "      <td>United Kingdom</td>\n",
              "      <td>12/1/2010 8:26</td>\n",
              "      <td>36</td>\n",
              "    </tr>\n",
              "  </tbody>\n",
              "</table>\n",
              "</div>"
            ],
            "text/plain": [
              "  InvoiceNo  ... CountryNumeric\n",
              "0    536365  ...             36\n",
              "1    536365  ...             36\n",
              "2    536365  ...             36\n",
              "3    536365  ...             36\n",
              "4    536365  ...             36\n",
              "\n",
              "[5 rows x 7 columns]"
            ]
          },
          "metadata": {
            "tags": []
          },
          "execution_count": 83
        }
      ]
    },
    {
      "cell_type": "code",
      "metadata": {
        "id": "FKMLjjXb6g0K"
      },
      "source": [
        "data.to_csv('preprocessed_data_for_nn_model.csv')"
      ],
      "execution_count": 84,
      "outputs": []
    },
    {
      "cell_type": "markdown",
      "metadata": {
        "id": "fLyLW7oVXtB-"
      },
      "source": [
        "## Modelling"
      ]
    },
    {
      "cell_type": "code",
      "metadata": {
        "colab": {
          "base_uri": "https://localhost:8080/"
        },
        "id": "NzPZWV-30P4x",
        "outputId": "cf3d9d01-f5d7-4feb-ad8d-2c1f2eb78197"
      },
      "source": [
        "final_df_for_nn_model = data[['Quantity', 'UnitPrice', 'Country']]\n",
        "model = NearestNeighbors(metric='cosine', algorithm='brute', n_neighbors=20)\n",
        "model.fit(final_df_for_nn_model.values)"
      ],
      "execution_count": 35,
      "outputs": [
        {
          "output_type": "execute_result",
          "data": {
            "text/plain": [
              "NearestNeighbors(algorithm='brute', leaf_size=30, metric='cosine',\n",
              "                 metric_params=None, n_jobs=None, n_neighbors=20, p=2,\n",
              "                 radius=1.0)"
            ]
          },
          "metadata": {
            "tags": []
          },
          "execution_count": 35
        }
      ]
    },
    {
      "cell_type": "markdown",
      "metadata": {
        "id": "eWLu-_CUXxBj"
      },
      "source": [
        "## Testing Model"
      ]
    },
    {
      "cell_type": "code",
      "metadata": {
        "colab": {
          "base_uri": "https://localhost:8080/"
        },
        "id": "GDyAxO0c1Q9W",
        "outputId": "cff4503b-5a0b-42f3-956c-c432f92909cd"
      },
      "source": [
        "test = final_df_for_nn_model.iloc[0].values.reshape(1, -1)\n",
        "test"
      ],
      "execution_count": 36,
      "outputs": [
        {
          "output_type": "execute_result",
          "data": {
            "text/plain": [
              "array([[ 6.  ,  2.55, 36.  ]])"
            ]
          },
          "metadata": {
            "tags": []
          },
          "execution_count": 36
        }
      ]
    },
    {
      "cell_type": "code",
      "metadata": {
        "colab": {
          "base_uri": "https://localhost:8080/"
        },
        "id": "uUI7cgBx1i2e",
        "outputId": "00c038ed-fde3-4a4d-eeaa-852679225d03"
      },
      "source": [
        "ind = model.kneighbors(test, return_distance=False)\n",
        "ind"
      ],
      "execution_count": 37,
      "outputs": [
        {
          "output_type": "execute_result",
          "data": {
            "text/plain": [
              "array([[489240, 456182, 177199, 422195, 489239, 286795, 489283,  83563,\n",
              "         17019, 177640, 177696, 421805, 421803, 421802, 177839, 177840,\n",
              "        421702, 539944, 177200,  83775]])"
            ]
          },
          "metadata": {
            "tags": []
          },
          "execution_count": 37
        }
      ]
    },
    {
      "cell_type": "code",
      "metadata": {
        "colab": {
          "base_uri": "https://localhost:8080/",
          "height": 647
        },
        "id": "vg-hS9z61qM4",
        "outputId": "556a8859-9ad4-4fd3-84fb-81f695d1340f"
      },
      "source": [
        "recommended_product = df.iloc[ind[0]]\n",
        "recommended_product"
      ],
      "execution_count": 38,
      "outputs": [
        {
          "output_type": "execute_result",
          "data": {
            "text/html": [
              "<div>\n",
              "<style scoped>\n",
              "    .dataframe tbody tr th:only-of-type {\n",
              "        vertical-align: middle;\n",
              "    }\n",
              "\n",
              "    .dataframe tbody tr th {\n",
              "        vertical-align: top;\n",
              "    }\n",
              "\n",
              "    .dataframe thead th {\n",
              "        text-align: right;\n",
              "    }\n",
              "</style>\n",
              "<table border=\"1\" class=\"dataframe\">\n",
              "  <thead>\n",
              "    <tr style=\"text-align: right;\">\n",
              "      <th></th>\n",
              "      <th>InvoiceNo</th>\n",
              "      <th>StockCode</th>\n",
              "      <th>Description</th>\n",
              "      <th>Quantity</th>\n",
              "      <th>InvoiceDate</th>\n",
              "      <th>UnitPrice</th>\n",
              "      <th>CustomerID</th>\n",
              "      <th>Country</th>\n",
              "    </tr>\n",
              "  </thead>\n",
              "  <tbody>\n",
              "    <tr>\n",
              "      <th>489240</th>\n",
              "      <td>577985</td>\n",
              "      <td>21535</td>\n",
              "      <td>RED RETROSPOT SMALL MILK JUG</td>\n",
              "      <td>6</td>\n",
              "      <td>11/22/2011 12:25</td>\n",
              "      <td>2.55</td>\n",
              "      <td>15116.0</td>\n",
              "      <td>United Kingdom</td>\n",
              "    </tr>\n",
              "    <tr>\n",
              "      <th>456182</th>\n",
              "      <td>575680</td>\n",
              "      <td>23311</td>\n",
              "      <td>VINTAGE CHRISTMAS STOCKING</td>\n",
              "      <td>6</td>\n",
              "      <td>11/10/2011 15:23</td>\n",
              "      <td>2.55</td>\n",
              "      <td>13148.0</td>\n",
              "      <td>United Kingdom</td>\n",
              "    </tr>\n",
              "    <tr>\n",
              "      <th>177199</th>\n",
              "      <td>552046</td>\n",
              "      <td>22303</td>\n",
              "      <td>COFFEE MUG APPLES DESIGN</td>\n",
              "      <td>6</td>\n",
              "      <td>5/6/2011 9:44</td>\n",
              "      <td>2.55</td>\n",
              "      <td>15235.0</td>\n",
              "      <td>United Kingdom</td>\n",
              "    </tr>\n",
              "    <tr>\n",
              "      <th>422195</th>\n",
              "      <td>573069</td>\n",
              "      <td>22301</td>\n",
              "      <td>COFFEE MUG CAT + BIRD DESIGN</td>\n",
              "      <td>6</td>\n",
              "      <td>10/27/2011 13:58</td>\n",
              "      <td>2.55</td>\n",
              "      <td>18077.0</td>\n",
              "      <td>United Kingdom</td>\n",
              "    </tr>\n",
              "    <tr>\n",
              "      <th>489239</th>\n",
              "      <td>577985</td>\n",
              "      <td>21531</td>\n",
              "      <td>RED RETROSPOT SUGAR JAM BOWL</td>\n",
              "      <td>6</td>\n",
              "      <td>11/22/2011 12:25</td>\n",
              "      <td>2.55</td>\n",
              "      <td>15116.0</td>\n",
              "      <td>United Kingdom</td>\n",
              "    </tr>\n",
              "    <tr>\n",
              "      <th>286795</th>\n",
              "      <td>562043</td>\n",
              "      <td>22970</td>\n",
              "      <td>LONDON BUS COFFEE MUG</td>\n",
              "      <td>6</td>\n",
              "      <td>8/2/2011 10:19</td>\n",
              "      <td>2.55</td>\n",
              "      <td>15342.0</td>\n",
              "      <td>United Kingdom</td>\n",
              "    </tr>\n",
              "    <tr>\n",
              "      <th>489283</th>\n",
              "      <td>578006</td>\n",
              "      <td>22300</td>\n",
              "      <td>COFFEE MUG DOG + BALL DESIGN</td>\n",
              "      <td>6</td>\n",
              "      <td>11/22/2011 12:40</td>\n",
              "      <td>2.55</td>\n",
              "      <td>13363.0</td>\n",
              "      <td>United Kingdom</td>\n",
              "    </tr>\n",
              "    <tr>\n",
              "      <th>83563</th>\n",
              "      <td>543325</td>\n",
              "      <td>21175</td>\n",
              "      <td>GIN + TONIC DIET METAL SIGN</td>\n",
              "      <td>6</td>\n",
              "      <td>2/7/2011 12:22</td>\n",
              "      <td>2.55</td>\n",
              "      <td>17692.0</td>\n",
              "      <td>United Kingdom</td>\n",
              "    </tr>\n",
              "    <tr>\n",
              "      <th>17019</th>\n",
              "      <td>537671</td>\n",
              "      <td>18097C</td>\n",
              "      <td>WHITE TALL PORCELAIN T-LIGHT HOLDER</td>\n",
              "      <td>6</td>\n",
              "      <td>12/8/2010 9:20</td>\n",
              "      <td>2.55</td>\n",
              "      <td>13267.0</td>\n",
              "      <td>United Kingdom</td>\n",
              "    </tr>\n",
              "    <tr>\n",
              "      <th>177640</th>\n",
              "      <td>552166</td>\n",
              "      <td>21039</td>\n",
              "      <td>RED RETROSPOT SHOPPING BAG</td>\n",
              "      <td>6</td>\n",
              "      <td>5/6/2011 12:21</td>\n",
              "      <td>2.55</td>\n",
              "      <td>13475.0</td>\n",
              "      <td>United Kingdom</td>\n",
              "    </tr>\n",
              "    <tr>\n",
              "      <th>177696</th>\n",
              "      <td>552170</td>\n",
              "      <td>82482</td>\n",
              "      <td>WOODEN PICTURE FRAME WHITE FINISH</td>\n",
              "      <td>6</td>\n",
              "      <td>5/6/2011 12:53</td>\n",
              "      <td>2.55</td>\n",
              "      <td>16458.0</td>\n",
              "      <td>United Kingdom</td>\n",
              "    </tr>\n",
              "    <tr>\n",
              "      <th>421805</th>\n",
              "      <td>573027</td>\n",
              "      <td>21535</td>\n",
              "      <td>RED RETROSPOT SMALL MILK JUG</td>\n",
              "      <td>6</td>\n",
              "      <td>10/27/2011 13:26</td>\n",
              "      <td>2.55</td>\n",
              "      <td>18225.0</td>\n",
              "      <td>United Kingdom</td>\n",
              "    </tr>\n",
              "    <tr>\n",
              "      <th>421803</th>\n",
              "      <td>573027</td>\n",
              "      <td>22896</td>\n",
              "      <td>PEG BAG APPLES DESIGN</td>\n",
              "      <td>6</td>\n",
              "      <td>10/27/2011 13:26</td>\n",
              "      <td>2.55</td>\n",
              "      <td>18225.0</td>\n",
              "      <td>United Kingdom</td>\n",
              "    </tr>\n",
              "    <tr>\n",
              "      <th>421802</th>\n",
              "      <td>573027</td>\n",
              "      <td>21155</td>\n",
              "      <td>RED RETROSPOT PEG BAG</td>\n",
              "      <td>6</td>\n",
              "      <td>10/27/2011 13:26</td>\n",
              "      <td>2.55</td>\n",
              "      <td>18225.0</td>\n",
              "      <td>United Kingdom</td>\n",
              "    </tr>\n",
              "    <tr>\n",
              "      <th>177839</th>\n",
              "      <td>552185</td>\n",
              "      <td>21155</td>\n",
              "      <td>RED RETROSPOT PEG BAG</td>\n",
              "      <td>6</td>\n",
              "      <td>5/6/2011 13:52</td>\n",
              "      <td>2.55</td>\n",
              "      <td>12921.0</td>\n",
              "      <td>United Kingdom</td>\n",
              "    </tr>\n",
              "    <tr>\n",
              "      <th>177840</th>\n",
              "      <td>552185</td>\n",
              "      <td>47580</td>\n",
              "      <td>TEA TIME DES TEA COSY</td>\n",
              "      <td>6</td>\n",
              "      <td>5/6/2011 13:52</td>\n",
              "      <td>2.55</td>\n",
              "      <td>12921.0</td>\n",
              "      <td>United Kingdom</td>\n",
              "    </tr>\n",
              "    <tr>\n",
              "      <th>421702</th>\n",
              "      <td>573020</td>\n",
              "      <td>22467</td>\n",
              "      <td>GUMBALL COAT RACK</td>\n",
              "      <td>6</td>\n",
              "      <td>10/27/2011 12:37</td>\n",
              "      <td>2.55</td>\n",
              "      <td>14842.0</td>\n",
              "      <td>United Kingdom</td>\n",
              "    </tr>\n",
              "    <tr>\n",
              "      <th>539944</th>\n",
              "      <td>581451</td>\n",
              "      <td>22350</td>\n",
              "      <td>ILLUSTRATED CAT BOWL</td>\n",
              "      <td>6</td>\n",
              "      <td>12/8/2011 17:57</td>\n",
              "      <td>2.55</td>\n",
              "      <td>17144.0</td>\n",
              "      <td>United Kingdom</td>\n",
              "    </tr>\n",
              "    <tr>\n",
              "      <th>177200</th>\n",
              "      <td>552046</td>\n",
              "      <td>22305</td>\n",
              "      <td>COFFEE MUG PINK PAISLEY DESIGN</td>\n",
              "      <td>6</td>\n",
              "      <td>5/6/2011 9:44</td>\n",
              "      <td>2.55</td>\n",
              "      <td>15235.0</td>\n",
              "      <td>United Kingdom</td>\n",
              "    </tr>\n",
              "    <tr>\n",
              "      <th>83775</th>\n",
              "      <td>543349</td>\n",
              "      <td>22970</td>\n",
              "      <td>LONDON BUS COFFEE MUG</td>\n",
              "      <td>6</td>\n",
              "      <td>2/7/2011 13:13</td>\n",
              "      <td>2.55</td>\n",
              "      <td>17774.0</td>\n",
              "      <td>United Kingdom</td>\n",
              "    </tr>\n",
              "  </tbody>\n",
              "</table>\n",
              "</div>"
            ],
            "text/plain": [
              "       InvoiceNo StockCode  ... CustomerID         Country\n",
              "489240    577985     21535  ...    15116.0  United Kingdom\n",
              "456182    575680     23311  ...    13148.0  United Kingdom\n",
              "177199    552046     22303  ...    15235.0  United Kingdom\n",
              "422195    573069     22301  ...    18077.0  United Kingdom\n",
              "489239    577985     21531  ...    15116.0  United Kingdom\n",
              "286795    562043     22970  ...    15342.0  United Kingdom\n",
              "489283    578006     22300  ...    13363.0  United Kingdom\n",
              "83563     543325     21175  ...    17692.0  United Kingdom\n",
              "17019     537671    18097C  ...    13267.0  United Kingdom\n",
              "177640    552166     21039  ...    13475.0  United Kingdom\n",
              "177696    552170     82482  ...    16458.0  United Kingdom\n",
              "421805    573027     21535  ...    18225.0  United Kingdom\n",
              "421803    573027     22896  ...    18225.0  United Kingdom\n",
              "421802    573027     21155  ...    18225.0  United Kingdom\n",
              "177839    552185     21155  ...    12921.0  United Kingdom\n",
              "177840    552185     47580  ...    12921.0  United Kingdom\n",
              "421702    573020     22467  ...    14842.0  United Kingdom\n",
              "539944    581451     22350  ...    17144.0  United Kingdom\n",
              "177200    552046     22305  ...    15235.0  United Kingdom\n",
              "83775     543349     22970  ...    17774.0  United Kingdom\n",
              "\n",
              "[20 rows x 8 columns]"
            ]
          },
          "metadata": {
            "tags": []
          },
          "execution_count": 38
        }
      ]
    },
    {
      "cell_type": "markdown",
      "metadata": {
        "id": "3JNbRXYjX3yx"
      },
      "source": [
        "## Making Recommendations"
      ]
    },
    {
      "cell_type": "code",
      "metadata": {
        "id": "N9M56n6-2IBu"
      },
      "source": [
        "def recommend_product(*product_data):\n",
        "    ind = model.kneighbors(product_data, return_distance=False)\n",
        "    return df.iloc[ind[0]][['InvoiceNo', 'Description', 'Quantity', 'UnitPrice', 'Country']]"
      ],
      "execution_count": 62,
      "outputs": []
    },
    {
      "cell_type": "code",
      "metadata": {
        "colab": {
          "base_uri": "https://localhost:8080/",
          "height": 647
        },
        "id": "r3HkmkDg3CzE",
        "outputId": "f43b68eb-6a74-4862-fbd3-1a4f6dac6a4a"
      },
      "source": [
        "test = data.iloc[0][['Quantity', 'UnitPrice', 'Country']].values.reshape(1, -1)\n",
        "input = test.tolist()[0]\n",
        "recommend_product(input)"
      ],
      "execution_count": 64,
      "outputs": [
        {
          "output_type": "execute_result",
          "data": {
            "text/html": [
              "<div>\n",
              "<style scoped>\n",
              "    .dataframe tbody tr th:only-of-type {\n",
              "        vertical-align: middle;\n",
              "    }\n",
              "\n",
              "    .dataframe tbody tr th {\n",
              "        vertical-align: top;\n",
              "    }\n",
              "\n",
              "    .dataframe thead th {\n",
              "        text-align: right;\n",
              "    }\n",
              "</style>\n",
              "<table border=\"1\" class=\"dataframe\">\n",
              "  <thead>\n",
              "    <tr style=\"text-align: right;\">\n",
              "      <th></th>\n",
              "      <th>InvoiceNo</th>\n",
              "      <th>Description</th>\n",
              "      <th>Quantity</th>\n",
              "      <th>UnitPrice</th>\n",
              "      <th>Country</th>\n",
              "    </tr>\n",
              "  </thead>\n",
              "  <tbody>\n",
              "    <tr>\n",
              "      <th>489240</th>\n",
              "      <td>577985</td>\n",
              "      <td>RED RETROSPOT SMALL MILK JUG</td>\n",
              "      <td>6</td>\n",
              "      <td>2.55</td>\n",
              "      <td>United Kingdom</td>\n",
              "    </tr>\n",
              "    <tr>\n",
              "      <th>456182</th>\n",
              "      <td>575680</td>\n",
              "      <td>VINTAGE CHRISTMAS STOCKING</td>\n",
              "      <td>6</td>\n",
              "      <td>2.55</td>\n",
              "      <td>United Kingdom</td>\n",
              "    </tr>\n",
              "    <tr>\n",
              "      <th>177199</th>\n",
              "      <td>552046</td>\n",
              "      <td>COFFEE MUG APPLES DESIGN</td>\n",
              "      <td>6</td>\n",
              "      <td>2.55</td>\n",
              "      <td>United Kingdom</td>\n",
              "    </tr>\n",
              "    <tr>\n",
              "      <th>422195</th>\n",
              "      <td>573069</td>\n",
              "      <td>COFFEE MUG CAT + BIRD DESIGN</td>\n",
              "      <td>6</td>\n",
              "      <td>2.55</td>\n",
              "      <td>United Kingdom</td>\n",
              "    </tr>\n",
              "    <tr>\n",
              "      <th>489239</th>\n",
              "      <td>577985</td>\n",
              "      <td>RED RETROSPOT SUGAR JAM BOWL</td>\n",
              "      <td>6</td>\n",
              "      <td>2.55</td>\n",
              "      <td>United Kingdom</td>\n",
              "    </tr>\n",
              "    <tr>\n",
              "      <th>286795</th>\n",
              "      <td>562043</td>\n",
              "      <td>LONDON BUS COFFEE MUG</td>\n",
              "      <td>6</td>\n",
              "      <td>2.55</td>\n",
              "      <td>United Kingdom</td>\n",
              "    </tr>\n",
              "    <tr>\n",
              "      <th>489283</th>\n",
              "      <td>578006</td>\n",
              "      <td>COFFEE MUG DOG + BALL DESIGN</td>\n",
              "      <td>6</td>\n",
              "      <td>2.55</td>\n",
              "      <td>United Kingdom</td>\n",
              "    </tr>\n",
              "    <tr>\n",
              "      <th>83563</th>\n",
              "      <td>543325</td>\n",
              "      <td>GIN + TONIC DIET METAL SIGN</td>\n",
              "      <td>6</td>\n",
              "      <td>2.55</td>\n",
              "      <td>United Kingdom</td>\n",
              "    </tr>\n",
              "    <tr>\n",
              "      <th>17019</th>\n",
              "      <td>537671</td>\n",
              "      <td>WHITE TALL PORCELAIN T-LIGHT HOLDER</td>\n",
              "      <td>6</td>\n",
              "      <td>2.55</td>\n",
              "      <td>United Kingdom</td>\n",
              "    </tr>\n",
              "    <tr>\n",
              "      <th>177640</th>\n",
              "      <td>552166</td>\n",
              "      <td>RED RETROSPOT SHOPPING BAG</td>\n",
              "      <td>6</td>\n",
              "      <td>2.55</td>\n",
              "      <td>United Kingdom</td>\n",
              "    </tr>\n",
              "    <tr>\n",
              "      <th>177696</th>\n",
              "      <td>552170</td>\n",
              "      <td>WOODEN PICTURE FRAME WHITE FINISH</td>\n",
              "      <td>6</td>\n",
              "      <td>2.55</td>\n",
              "      <td>United Kingdom</td>\n",
              "    </tr>\n",
              "    <tr>\n",
              "      <th>421805</th>\n",
              "      <td>573027</td>\n",
              "      <td>RED RETROSPOT SMALL MILK JUG</td>\n",
              "      <td>6</td>\n",
              "      <td>2.55</td>\n",
              "      <td>United Kingdom</td>\n",
              "    </tr>\n",
              "    <tr>\n",
              "      <th>421803</th>\n",
              "      <td>573027</td>\n",
              "      <td>PEG BAG APPLES DESIGN</td>\n",
              "      <td>6</td>\n",
              "      <td>2.55</td>\n",
              "      <td>United Kingdom</td>\n",
              "    </tr>\n",
              "    <tr>\n",
              "      <th>421802</th>\n",
              "      <td>573027</td>\n",
              "      <td>RED RETROSPOT PEG BAG</td>\n",
              "      <td>6</td>\n",
              "      <td>2.55</td>\n",
              "      <td>United Kingdom</td>\n",
              "    </tr>\n",
              "    <tr>\n",
              "      <th>177839</th>\n",
              "      <td>552185</td>\n",
              "      <td>RED RETROSPOT PEG BAG</td>\n",
              "      <td>6</td>\n",
              "      <td>2.55</td>\n",
              "      <td>United Kingdom</td>\n",
              "    </tr>\n",
              "    <tr>\n",
              "      <th>177840</th>\n",
              "      <td>552185</td>\n",
              "      <td>TEA TIME DES TEA COSY</td>\n",
              "      <td>6</td>\n",
              "      <td>2.55</td>\n",
              "      <td>United Kingdom</td>\n",
              "    </tr>\n",
              "    <tr>\n",
              "      <th>421702</th>\n",
              "      <td>573020</td>\n",
              "      <td>GUMBALL COAT RACK</td>\n",
              "      <td>6</td>\n",
              "      <td>2.55</td>\n",
              "      <td>United Kingdom</td>\n",
              "    </tr>\n",
              "    <tr>\n",
              "      <th>539944</th>\n",
              "      <td>581451</td>\n",
              "      <td>ILLUSTRATED CAT BOWL</td>\n",
              "      <td>6</td>\n",
              "      <td>2.55</td>\n",
              "      <td>United Kingdom</td>\n",
              "    </tr>\n",
              "    <tr>\n",
              "      <th>177200</th>\n",
              "      <td>552046</td>\n",
              "      <td>COFFEE MUG PINK PAISLEY DESIGN</td>\n",
              "      <td>6</td>\n",
              "      <td>2.55</td>\n",
              "      <td>United Kingdom</td>\n",
              "    </tr>\n",
              "    <tr>\n",
              "      <th>83775</th>\n",
              "      <td>543349</td>\n",
              "      <td>LONDON BUS COFFEE MUG</td>\n",
              "      <td>6</td>\n",
              "      <td>2.55</td>\n",
              "      <td>United Kingdom</td>\n",
              "    </tr>\n",
              "  </tbody>\n",
              "</table>\n",
              "</div>"
            ],
            "text/plain": [
              "       InvoiceNo  ...         Country\n",
              "489240    577985  ...  United Kingdom\n",
              "456182    575680  ...  United Kingdom\n",
              "177199    552046  ...  United Kingdom\n",
              "422195    573069  ...  United Kingdom\n",
              "489239    577985  ...  United Kingdom\n",
              "286795    562043  ...  United Kingdom\n",
              "489283    578006  ...  United Kingdom\n",
              "83563     543325  ...  United Kingdom\n",
              "17019     537671  ...  United Kingdom\n",
              "177640    552166  ...  United Kingdom\n",
              "177696    552170  ...  United Kingdom\n",
              "421805    573027  ...  United Kingdom\n",
              "421803    573027  ...  United Kingdom\n",
              "421802    573027  ...  United Kingdom\n",
              "177839    552185  ...  United Kingdom\n",
              "177840    552185  ...  United Kingdom\n",
              "421702    573020  ...  United Kingdom\n",
              "539944    581451  ...  United Kingdom\n",
              "177200    552046  ...  United Kingdom\n",
              "83775     543349  ...  United Kingdom\n",
              "\n",
              "[20 rows x 5 columns]"
            ]
          },
          "metadata": {
            "tags": []
          },
          "execution_count": 64
        }
      ]
    },
    {
      "cell_type": "markdown",
      "metadata": {
        "id": "Iq0z5tQXX9Jk"
      },
      "source": [
        "## Model Export and Deployment"
      ]
    },
    {
      "cell_type": "code",
      "metadata": {
        "id": "6kOgPxT-4Jdz"
      },
      "source": [
        "file = open('model.pkl', 'wb')\n",
        "pickle.dump(model, file)"
      ],
      "execution_count": 68,
      "outputs": []
    },
    {
      "cell_type": "code",
      "metadata": {
        "colab": {
          "base_uri": "https://localhost:8080/"
        },
        "id": "TtvB9Tcy5_ge",
        "outputId": "958fcc53-8c6f-4aed-8717-326b0fd4ecbb"
      },
      "source": [
        "model = pickle.load(open('model.pkl', 'rb'))\n",
        "model"
      ],
      "execution_count": 69,
      "outputs": [
        {
          "output_type": "execute_result",
          "data": {
            "text/plain": [
              "NearestNeighbors(algorithm='brute', leaf_size=30, metric='cosine',\n",
              "                 metric_params=None, n_jobs=None, n_neighbors=20, p=2,\n",
              "                 radius=1.0)"
            ]
          },
          "metadata": {
            "tags": []
          },
          "execution_count": 69
        }
      ]
    },
    {
      "cell_type": "code",
      "metadata": {
        "id": "nsDEbN3R6H0I"
      },
      "source": [
        "le_name_mapping = dict(zip(encoder.transform(encoder.classes_), encoder.classes_))"
      ],
      "execution_count": 87,
      "outputs": []
    },
    {
      "cell_type": "code",
      "metadata": {
        "colab": {
          "base_uri": "https://localhost:8080/"
        },
        "id": "_qnobYxYDh4i",
        "outputId": "9dca3007-f665-4282-9498-20132bafa42b"
      },
      "source": [
        "le_name_mapping"
      ],
      "execution_count": 88,
      "outputs": [
        {
          "output_type": "execute_result",
          "data": {
            "text/plain": [
              "{0: 'Australia',\n",
              " 1: 'Austria',\n",
              " 2: 'Bahrain',\n",
              " 3: 'Belgium',\n",
              " 4: 'Brazil',\n",
              " 5: 'Canada',\n",
              " 6: 'Channel Islands',\n",
              " 7: 'Cyprus',\n",
              " 8: 'Czech Republic',\n",
              " 9: 'Denmark',\n",
              " 10: 'EIRE',\n",
              " 11: 'European Community',\n",
              " 12: 'Finland',\n",
              " 13: 'France',\n",
              " 14: 'Germany',\n",
              " 15: 'Greece',\n",
              " 16: 'Hong Kong',\n",
              " 17: 'Iceland',\n",
              " 18: 'Israel',\n",
              " 19: 'Italy',\n",
              " 20: 'Japan',\n",
              " 21: 'Lebanon',\n",
              " 22: 'Lithuania',\n",
              " 23: 'Malta',\n",
              " 24: 'Netherlands',\n",
              " 25: 'Norway',\n",
              " 26: 'Poland',\n",
              " 27: 'Portugal',\n",
              " 28: 'RSA',\n",
              " 29: 'Saudi Arabia',\n",
              " 30: 'Singapore',\n",
              " 31: 'Spain',\n",
              " 32: 'Sweden',\n",
              " 33: 'Switzerland',\n",
              " 34: 'USA',\n",
              " 35: 'United Arab Emirates',\n",
              " 36: 'United Kingdom',\n",
              " 37: 'Unspecified'}"
            ]
          },
          "metadata": {
            "tags": []
          },
          "execution_count": 88
        }
      ]
    },
    {
      "cell_type": "code",
      "metadata": {
        "id": "Z4C6XInjDi8c"
      },
      "source": [
        ""
      ],
      "execution_count": null,
      "outputs": []
    }
  ]
}